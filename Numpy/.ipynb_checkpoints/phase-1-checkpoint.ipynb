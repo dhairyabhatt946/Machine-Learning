{
 "cells": [
  {
   "cell_type": "markdown",
   "id": "df118c9d-a050-420f-af64-383858e1cf11",
   "metadata": {},
   "source": [
    "## Numpy array and basics"
   ]
  },
  {
   "cell_type": "code",
   "execution_count": 1,
   "id": "48a7c303-2dea-48d8-a69b-e2d36b44c747",
   "metadata": {},
   "outputs": [],
   "source": [
    "import numpy as np"
   ]
  },
  {
   "cell_type": "markdown",
   "id": "98a7d6f6-fc05-47c5-bf84-1acbf923f010",
   "metadata": {},
   "source": [
    "### Creating  array from list"
   ]
  },
  {
   "cell_type": "code",
   "execution_count": 3,
   "id": "5a01101e-3ca4-4604-8aa0-e56555937336",
   "metadata": {},
   "outputs": [
    {
     "name": "stdout",
     "output_type": "stream",
     "text": [
      "1D array:  [1 2 3 4 5]\n",
      "2D array:  [[1 2 3]\n",
      " [4 5 6]]\n"
     ]
    }
   ],
   "source": [
    "arr_1d = np.array([1, 2, 3, 4, 5])\n",
    "print(\"1D array: \", arr_1d)\n",
    "\n",
    "arr_2d = np.array([[1, 2, 3], [4, 5, 6]])\n",
    "print(\"2D array: \", arr_2d)"
   ]
  },
  {
   "cell_type": "markdown",
   "id": "3f5b81f7-71fd-4f02-aae9-89b3bc401ddf",
   "metadata": {},
   "source": [
    "### List vs numpy array"
   ]
  },
  {
   "cell_type": "code",
   "execution_count": 5,
   "id": "bd50e125-2e69-403c-b77e-af098e2c4cc5",
   "metadata": {},
   "outputs": [
    {
     "name": "stdout",
     "output_type": "stream",
     "text": [
      "Python list multiplication  [1, 2, 3, 1, 2, 3]\n",
      "Python array multiplication  [2 4 6]\n"
     ]
    }
   ],
   "source": [
    "py_list = [1, 2, 3]\n",
    "print(\"Python list multiplication \", py_list * 2)\n",
    "\n",
    "np_array = np.array([1, 2, 3]) # element wise multiplication\n",
    "print(\"Python array multiplication \", np_array * 2)"
   ]
  },
  {
   "cell_type": "code",
   "execution_count": 7,
   "id": "e7295145-9ec1-453a-8e53-32d55bcf2975",
   "metadata": {},
   "outputs": [
    {
     "name": "stdout",
     "output_type": "stream",
     "text": [
      "\n",
      " List operation time:  0.14247941970825195\n",
      "\n",
      " Numpy operation time:  0.007197141647338867\n"
     ]
    }
   ],
   "source": [
    "import time\n",
    "start = time.time()\n",
    "py_list = [i*2 for i in range(1000000)]\n",
    "print(\"\\n List operation time: \", time.time() - start)\n",
    "\n",
    "start = time.time()\n",
    "np_array = np.arange(1000000) * 2\n",
    "print(\"\\n Numpy operation time: \", time.time() - start)"
   ]
  },
  {
   "cell_type": "markdown",
   "id": "9a035764-ea2d-4fcb-8560-c4c44ec158ed",
   "metadata": {},
   "source": [
    "### Creating array from scratch"
   ]
  },
  {
   "cell_type": "code",
   "execution_count": 14,
   "id": "ce33aec5-54e4-47a3-9775-25e2ef741810",
   "metadata": {},
   "outputs": [
    {
     "name": "stdout",
     "output_type": "stream",
     "text": [
      "zeros array: \n",
      " [[0. 0. 0. 0.]\n",
      " [0. 0. 0. 0.]\n",
      " [0. 0. 0. 0.]]\n",
      "ones array: \n",
      " [[1. 1. 1.]\n",
      " [1. 1. 1.]]\n",
      "full array: \n",
      " [[7 7]\n",
      " [7 7]]\n",
      "random array: \n",
      " [[0.56009276 0.33864876 0.62832707]\n",
      " [0.51942766 0.10427861 0.90835534]]\n",
      "sequence array: \n",
      " [ 0  2  4  6  8 10]\n"
     ]
    }
   ],
   "source": [
    "zeros = np.zeros((3, 4))\n",
    "print(\"zeros array: \\n\", zeros)\n",
    "\n",
    "ones = np.ones((2, 3))\n",
    "print(\"ones array: \\n\", ones)\n",
    "\n",
    "full = np.full((2, 2), 7)\n",
    "print(\"full array: \\n\", full)\n",
    "\n",
    "random = np.random.random((2, 3))\n",
    "print(\"random array: \\n\", random)\n",
    "\n",
    "sequence = np.arange(0, 11, 2)\n",
    "print(\"sequence array: \\n\", sequence)"
   ]
  },
  {
   "cell_type": "markdown",
   "id": "0ec9ad10-138a-4d8f-9e24-6a877a4b42c9",
   "metadata": {},
   "source": [
    "### Vector, Matrix and Tensor"
   ]
  },
  {
   "cell_type": "code",
   "execution_count": 15,
   "id": "59ae558b-f403-4aca-950e-24bb292b716e",
   "metadata": {},
   "outputs": [
    {
     "name": "stdout",
     "output_type": "stream",
     "text": [
      "Vector:  [1 2 3]\n",
      "Matrix:  [[1 2 3]\n",
      " [4 5 6]]\n",
      "Tensor:  [[[1 2]\n",
      "  [3 4]]\n",
      "\n",
      " [[5 6]\n",
      "  [7 8]]]\n"
     ]
    }
   ],
   "source": [
    "# 1d\n",
    "vector = np.array([1, 2, 3])\n",
    "print(\"Vector: \", vector)\n",
    "\n",
    "# 2d\n",
    "matrix = np.array([[1, 2, 3], \n",
    "                  [4, 5, 6]])\n",
    "print(\"Matrix: \", matrix)\n",
    "\n",
    "# nd\n",
    "tensor = np.array([[[1, 2], [3, 4]],\n",
    "                  [[5, 6], [7, 8]]])\n",
    "print(\"Tensor: \", tensor)"
   ]
  },
  {
   "cell_type": "markdown",
   "id": "f430db84-114a-4bb2-90ec-10fa6832708f",
   "metadata": {},
   "source": [
    "### Array properties"
   ]
  },
  {
   "cell_type": "code",
   "execution_count": 21,
   "id": "11b7570a-ba33-40f6-91da-bda1bf1c0a88",
   "metadata": {},
   "outputs": [
    {
     "name": "stdout",
     "output_type": "stream",
     "text": [
      "Shape  (2, 3)\n",
      "Dimension  2\n",
      "Size  6\n",
      "DType  int64\n"
     ]
    }
   ],
   "source": [
    "arr = np.array([[1, 2, 3],\n",
    "               [4, 5, 6]])\n",
    "print(\"Shape \", arr.shape)\n",
    "print(\"Dimension \", arr.ndim)\n",
    "print(\"Size \", arr.size)\n",
    "print(\"DType \", arr.dtype)"
   ]
  },
  {
   "cell_type": "markdown",
   "id": "2cd45b70-3e85-4a21-9219-f09f8e5b1dd3",
   "metadata": {},
   "source": [
    "### Array Reshaping"
   ]
  },
  {
   "cell_type": "code",
   "execution_count": 27,
   "id": "9e49aea0-28e8-4269-bf22-cbbf505a89f6",
   "metadata": {},
   "outputs": [
    {
     "name": "stdout",
     "output_type": "stream",
     "text": [
      "Original array  [ 0  1  2  3  4  5  6  7  8  9 10 11]\n",
      "\n",
      " Reshaped array  [[ 0  1  2  3]\n",
      " [ 4  5  6  7]\n",
      " [ 8  9 10 11]]\n",
      "\n",
      " Flattened array  [ 0  1  2  3  4  5  6  7  8  9 10 11]\n",
      "\n",
      " Raveled array  [ 0  1  2  3  4  5  6  7  8  9 10 11]\n",
      "\n",
      " Transposed array  [[ 0  4  8]\n",
      " [ 1  5  9]\n",
      " [ 2  6 10]\n",
      " [ 3  7 11]]\n"
     ]
    }
   ],
   "source": [
    "arr = np.arange(12)\n",
    "print(\"Original array \", arr)\n",
    "\n",
    "reshaped = arr.reshape((3, 4))\n",
    "print(\"\\n Reshaped array \", reshaped)\n",
    "\n",
    "# it returns copy of the reshaped array\n",
    "flattened = reshaped.flatten()\n",
    "print(\"\\n Flattened array \", flattened)\n",
    "\n",
    "# ravel (returns view instead of copy). it returns original reshaped array\n",
    "raveled = reshaped.ravel()\n",
    "print(\"\\n Raveled array \", raveled)\n",
    "\n",
    "# Transpose\n",
    "transpose = reshaped.T\n",
    "print(\"\\n Transposed array \", transpose)"
   ]
  },
  {
   "cell_type": "code",
   "execution_count": null,
   "id": "4f5bf178-de3a-49ed-87fc-bd95d445a268",
   "metadata": {},
   "outputs": [],
   "source": []
  }
 ],
 "metadata": {
  "kernelspec": {
   "display_name": "Python 3 (ipykernel)",
   "language": "python",
   "name": "python3"
  },
  "language_info": {
   "codemirror_mode": {
    "name": "ipython",
    "version": 3
   },
   "file_extension": ".py",
   "mimetype": "text/x-python",
   "name": "python",
   "nbconvert_exporter": "python",
   "pygments_lexer": "ipython3",
   "version": "3.13.1"
  }
 },
 "nbformat": 4,
 "nbformat_minor": 5
}

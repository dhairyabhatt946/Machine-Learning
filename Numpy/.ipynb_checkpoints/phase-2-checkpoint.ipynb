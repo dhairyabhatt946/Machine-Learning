{
 "cells": [
  {
   "cell_type": "markdown",
   "id": "ee388140-47ed-473f-93ac-a9dd31c48ea8",
   "metadata": {},
   "source": [
    "## Numpy Array operations"
   ]
  },
  {
   "cell_type": "code",
   "execution_count": 1,
   "id": "e6ac497e-a788-41e6-98ce-4387b10b1e8f",
   "metadata": {},
   "outputs": [],
   "source": [
    "import numpy as np"
   ]
  },
  {
   "cell_type": "code",
   "execution_count": 3,
   "id": "7cd6ea28-b2fd-4ab4-b7bf-01cfbd6cf315",
   "metadata": {},
   "outputs": [
    {
     "name": "stdout",
     "output_type": "stream",
     "text": [
      "Basic Slicing [3 4 5 6 7]\n",
      "With step [2 4 6 8]\n",
      "Negative indexing 8\n"
     ]
    }
   ],
   "source": [
    "arr = np.array([1, 2, 3, 4, 5, 6, 7, 8, 9, 10])\n",
    "print(\"Basic Slicing\", arr[2:7])\n",
    "print(\"With step\", arr[1:8:2])\n",
    "print(\"Negative indexing\", arr[-3])"
   ]
  },
  {
   "cell_type": "code",
   "execution_count": 8,
   "id": "c1678f36-2eef-4bfc-8b3e-674d2302dd59",
   "metadata": {},
   "outputs": [
    {
     "name": "stdout",
     "output_type": "stream",
     "text": [
      "Specific element 6\n",
      "Entire row:  [4 5 6]\n",
      "Entire col:  [2 5 8]\n"
     ]
    }
   ],
   "source": [
    "arr_2d = np.array([[1, 2, 3],\n",
    "                   [4, 5, 6],\n",
    "                   [7, 8, 9]])\n",
    "print(\"Specific element\", arr_2d[1, 2])\n",
    "print(\"Entire row: \", arr_2d[1])\n",
    "print(\"Entire col: \", arr_2d[:, 1])"
   ]
  },
  {
   "cell_type": "markdown",
   "id": "789ae21c-376c-455f-8afb-4cdc6a2189f0",
   "metadata": {},
   "source": [
    "## Sorting"
   ]
  },
  {
   "cell_type": "code",
   "execution_count": 12,
   "id": "41068b81-8c57-4f95-81ad-63ebf849237c",
   "metadata": {},
   "outputs": [
    {
     "name": "stdout",
     "output_type": "stream",
     "text": [
      "Sorted Array [1 1 2 3 4 5 6 9]\n",
      "Sorted 2D array by column [[1 1]\n",
      " [2 2]\n",
      " [3 3]]\n",
      "Sorted 2D array by row [[1 3]\n",
      " [1 2]\n",
      " [2 3]]\n"
     ]
    }
   ],
   "source": [
    "unsorted = np.array([3, 1, 4, 1, 5, 9, 2, 6])\n",
    "print(\"Sorted Array\", np.sort(unsorted))\n",
    "\n",
    "arr_2d_unsorted = np.array([[3, 1], [1, 2], [2, 3]])\n",
    "print(\"Sorted 2D array by column\", np.sort(arr_2d_unsorted, axis=0))\n",
    "print(\"Sorted 2D array by row\", np.sort(arr_2d_unsorted, axis=1))"
   ]
  },
  {
   "cell_type": "markdown",
   "id": "59885eaa-5a75-405b-8898-18835a6bb894",
   "metadata": {},
   "source": [
    "## Filter"
   ]
  },
  {
   "cell_type": "code",
   "execution_count": 13,
   "id": "7521be8f-1556-436c-9fbe-345734515305",
   "metadata": {},
   "outputs": [
    {
     "name": "stdout",
     "output_type": "stream",
     "text": [
      "Even numbers [ 2  4  6  8 10]\n"
     ]
    }
   ],
   "source": [
    "numbers = np.array([1, 2, 3, 4, 5, 6, 7, 8, 9, 10])\n",
    "even_number = numbers[numbers % 2 == 0]\n",
    "print(\"Even numbers\", even_number)"
   ]
  },
  {
   "cell_type": "markdown",
   "id": "e32d1c2f-615d-41a5-85ed-f164c7f186f7",
   "metadata": {},
   "source": [
    "## Filter with mask"
   ]
  },
  {
   "cell_type": "code",
   "execution_count": 16,
   "id": "855c2110-7ea2-49ec-80ea-319bd56eedc4",
   "metadata": {},
   "outputs": [
    {
     "name": "stdout",
     "output_type": "stream",
     "text": [
      "Numbers greater than 5: [ 6  7  8  9 10]\n"
     ]
    }
   ],
   "source": [
    "mask = numbers > 5\n",
    "print(\"Numbers greater than 5:\", numbers[mask])"
   ]
  },
  {
   "cell_type": "code",
   "execution_count": null,
   "id": "00b89389-f48e-4635-ad18-a2e59660c376",
   "metadata": {},
   "outputs": [],
   "source": []
  }
 ],
 "metadata": {
  "kernelspec": {
   "display_name": "Python 3 (ipykernel)",
   "language": "python",
   "name": "python3"
  },
  "language_info": {
   "codemirror_mode": {
    "name": "ipython",
    "version": 3
   },
   "file_extension": ".py",
   "mimetype": "text/x-python",
   "name": "python",
   "nbconvert_exporter": "python",
   "pygments_lexer": "ipython3",
   "version": "3.13.1"
  }
 },
 "nbformat": 4,
 "nbformat_minor": 5
}
